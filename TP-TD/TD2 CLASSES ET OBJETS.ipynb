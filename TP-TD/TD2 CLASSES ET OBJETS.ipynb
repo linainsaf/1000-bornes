{
 "cells": [
  {
   "cell_type": "markdown",
   "metadata": {},
   "source": [
    "## EXERCICE 1: REPRESENTATION UML D’UNE CLASSE"
   ]
  },
  {
   "cell_type": "code",
   "execution_count": 1,
   "metadata": {},
   "outputs": [],
   "source": [
    "# Import des packages necessaires au fonctionnement\n",
    "from datetime import datetime # de la classe\n",
    "class Vehicule :\n",
    "    # 1) Declaration des constructeurs\n",
    "    def __init__(self ,marque,annee=datetime.now( ).year) :\n",
    "        self.marque=marque\n",
    "        self.annee=annee # Annee actuelle par defaut\n",
    "    # 2) Declaration des property\n",
    "    @property\n",
    "    def annee(self):\n",
    "        return self.__annee\n",
    "    @annee.setter\n",
    "    def annee(self,annee) :\n",
    "        anneeNow = datetime.now( ).year\n",
    "        if ( annee > 1900) and ( annee <= anneeNow ) :\n",
    "            self.__annee = annee\n",
    "        # 3) Declaration des methodes\n",
    "    def afficher(self):\n",
    "        res=\"Vehicule \"\n",
    "        res+=\"de marque\"+self.marque\n",
    "        res+=\"fabrique en \"+str(self.annee)\n",
    "        print(res)\n",
    "    def calculerAge(self):\n",
    "        anneeNow=datetime.now( ).year\n",
    "        return anneeNow-self.annee"
   ]
  },
  {
   "cell_type": "code",
   "execution_count": 2,
   "metadata": {},
   "outputs": [
    {
     "name": "stdout",
     "output_type": "stream",
     "text": [
      "Vehicule de marque Peugeot fabrique en 2014\n",
      "v1 a 7 ans.\n"
     ]
    }
   ],
   "source": [
    "# Creation d’un Vehicule\n",
    "v1=Vehicule(\" Peugeot \",2014)\n",
    "# Affichage de ses informations\n",
    "v1.afficher( )\n",
    "# Affichage de son age\n",
    "print (\"v1 a\",v1.calculerAge( ),\"ans.\")\n",
    "# Creation d’un autre Vehicule\n",
    "v2=Vehicule (\"Renault\")\n",
    "# Modification de son annee de fabrication\n",
    "v2.annee=2012"
   ]
  },
  {
   "cell_type": "code",
   "execution_count": 3,
   "metadata": {},
   "outputs": [],
   "source": [
    "# Import des packages necessaires au fonctionnement\n",
    "class Vecteur :\n",
    "    def __init__(self ,x0,y0,z0) :\n",
    "        self.x=x0\n",
    "        self.y=y0\n",
    "        self.z=z0\n",
    "# 3) Declaration des methodes\n",
    "    def __add__(self,second):  \n",
    "        return Vecteur(self.x+second.x,self.y+second.y,self.z+second.z)\n",
    "    def __str__(self):\n",
    "        return \"Vecteur({:g}, {:g}, {:g})\".format(self.x, self.y,self.z)"
   ]
  },
  {
   "cell_type": "code",
   "execution_count": 4,
   "metadata": {},
   "outputs": [
    {
     "name": "stdout",
     "output_type": "stream",
     "text": [
      "Vecteur(1, 2, 3)\n"
     ]
    }
   ],
   "source": [
    "V1=Vecteur(1,2,3)\n",
    "V2=Vecteur(0,0,0)\n",
    "print(V1+V2)"
   ]
  },
  {
   "cell_type": "code",
   "execution_count": 5,
   "metadata": {},
   "outputs": [],
   "source": [
    "import datetime"
   ]
  },
  {
   "cell_type": "code",
   "execution_count": 6,
   "metadata": {},
   "outputs": [
    {
     "data": {
      "text/plain": [
       "datetime.datetime(2021, 1, 11, 14, 57, 5, 317085)"
      ]
     },
     "execution_count": 6,
     "metadata": {},
     "output_type": "execute_result"
    }
   ],
   "source": [
    "datetime.datetime.now()"
   ]
  },
  {
   "cell_type": "code",
   "execution_count": 27,
   "metadata": {},
   "outputs": [],
   "source": [
    "#Compte bancaire : \n",
    "class Date_de_naissance:\n",
    "    def __init__(self,j0,m0,a0):\n",
    "        self.j=j0\n",
    "        self.m=m0\n",
    "        self.a=a0\n",
    "    def __str__(self):\n",
    "        return \"%02d / %02d / %d\" %(self.j,self.m,self.a)\n"
   ]
  },
  {
   "cell_type": "code",
   "execution_count": 30,
   "metadata": {},
   "outputs": [
    {
     "name": "stdout",
     "output_type": "stream",
     "text": [
      "01 / 07 / 1982\n"
     ]
    }
   ],
   "source": [
    "D=Date_de_naissance(1,7,1982)\n",
    "print(D)"
   ]
  },
  {
   "cell_type": "code",
   "execution_count": 9,
   "metadata": {},
   "outputs": [],
   "source": [
    "class Personne:\n",
    "    def __init__(self,nom0,prenom0,Date_de_naissance):\n",
    "        self.nom=nom0\n",
    "        self.prenom=prenom0\n",
    "        self.date=Date_de_naissance\n",
    "    def afficher(self):\n",
    "        print(\"Nom:%s \\nPrénom: %s \\nDate de naissance: %s\"%(self.nom,self.prenom,self.date.toString()))\n",
    "\n"
   ]
  },
  {
   "cell_type": "code",
   "execution_count": 10,
   "metadata": {},
   "outputs": [
    {
     "name": "stdout",
     "output_type": "stream",
     "text": [
      "Nom:Ilyass \n",
      "Prénom: Math \n",
      "Date de naissance: 01 / 07 / 1982\n"
     ]
    }
   ],
   "source": [
    "P=Personne(\"Ilyass\",\"Math\",Date_de_naissance(1,7,1982))\n",
    "P.afficher()"
   ]
  },
  {
   "cell_type": "code",
   "execution_count": 11,
   "metadata": {},
   "outputs": [],
   "source": [
    "class Employe(Personne):\n",
    "    def __init__(self,nom,prenom,Date_de_naissance,salaire):\n",
    "        Personne.__init__(self,nom,prenom,Date_de_naissance)\n",
    "        self.salaire=salaire\n",
    "    def afficher(self):\n",
    "        Personne.afficher(self)\n",
    "        print(\"Salaire: %.02f\"%self.salaire)"
   ]
  },
  {
   "cell_type": "code",
   "execution_count": 12,
   "metadata": {},
   "outputs": [
    {
     "name": "stdout",
     "output_type": "stream",
     "text": [
      "Nom:Ilyass \n",
      "Prénom: Math \n",
      "Date de naissance: 01 / 07 / 1985\n",
      "Salaire: 7865.55\n"
     ]
    }
   ],
   "source": [
    "E=Employe(\"Ilyass\",\"Math\",Date_de_naissance(1,7,1985),7865.548)\n",
    "E.afficher()"
   ]
  },
  {
   "cell_type": "code",
   "execution_count": 13,
   "metadata": {},
   "outputs": [],
   "source": [
    "class Chef(Employe):\n",
    "    def __init__(self,nom,prenom,Date_de_naissance,salaire,service):\n",
    "        Employe.__init__(self,nom,prenom,Date_de_naissance,salaire)\n",
    "        self.service=service\n",
    "    def afficher(self):\n",
    "        Employe.afficher(self)\n",
    "        print (\"Service: %s\"%self.service)"
   ]
  },
  {
   "cell_type": "code",
   "execution_count": 14,
   "metadata": {},
   "outputs": [
    {
     "name": "stdout",
     "output_type": "stream",
     "text": [
      "Nom:Ilyass \n",
      "Prénom: Math \n",
      "Date de naissance: 01 / 07 / 1988\n",
      "Salaire: 7865.55\n",
      "Service: Ressource humaine\n"
     ]
    }
   ],
   "source": [
    "Ch=Chef(\"Ilyass\",\"Math\",Date_de_naissance(1,7,1988),7865.548,\"Ressource humaine\")\n",
    "Ch.afficher()\n"
   ]
  },
  {
   "cell_type": "code",
   "execution_count": 15,
   "metadata": {},
   "outputs": [],
   "source": [
    "class courrier:\n",
    "    def __init__(self,ad,ae,poids,me):\n",
    "        self.ad=ad\n",
    "        self.ae=ae\n",
    "        self.pd=poids\n",
    "        self.me=me\n",
    "    def afficher(self):\n",
    "        print(\"Adresse destination: %s \\nAdress expedition: %s \\nPoids: %02f grammes \\nMode :%s\"%(self.ad,self.ae,self.pd,self.me))\n",
    "    \n",
    "\n",
    "class lettre(courrier):\n",
    "    def __init__(self,ad,ae,poids,me,form):\n",
    "        courrier.__init__(self,ad,ae,poids,me)\n",
    "        self.fm=form\n",
    "    def pt(self):\n",
    "        if self.fm==\"A4\":\n",
    "            tarif_base=2.5\n",
    "        if self.fm==\"A3\": \n",
    "            tarif_base=3.5\n",
    "            \n",
    "        pt=tarif_base+self.pd/1000\n",
    "        \n",
    "        if self.me==\"normal\":\n",
    "            Prix_timbre=pt\n",
    "        else : Prix_timbre=pt*2\n",
    "        \n",
    "        return Prix_timbre\n",
    "    \n",
    "    def afficher(self):\n",
    "        print(\"Lettre : \\n \")\n",
    "        courrier.afficher(self)\n",
    "        print(\"Format : %s \\nPrix timbre : %02f\"%(self.fm,self.pt()))\n",
    "class colis:\n",
    "    def __init__(self,ad,ae,poids,me,vol):\n",
    "        courrier.__init__(self,ad,ae,poids,me)\n",
    "        self.vol=vol\n",
    "        \n",
    "    def pt(self):\n",
    "        \n",
    "        pt=0.25*self.vol+self.pd/1000\n",
    "        \n",
    "        if self.me==\"normal\":\n",
    "            Prix_timbre=pt\n",
    "        else : Prix_timbre=pt*2\n",
    "        \n",
    "        return Prix_timbre\n",
    "    \n",
    "    def afficher(self):\n",
    "        print(\"Colis : \")\n",
    "        courrier.afficher(self)\n",
    "        print(\"Volume : %s\\nPrix timbre : %02f\"%(self.vol,self.pt()))\n"
   ]
  },
  {
   "cell_type": "code",
   "execution_count": 16,
   "metadata": {},
   "outputs": [
    {
     "name": "stdout",
     "output_type": "stream",
     "text": [
      "Lettre : \n",
      " \n",
      "Adresse destination: Lille \n",
      "Adress expedition: Paris \n",
      "Poids: 80.000000 grammes \n",
      "Mode :normal\n",
      "Format : A4 \n",
      "Prix timbre : 2.580000\n"
     ]
    }
   ],
   "source": [
    "L1=lettre(\"Lille\",\"Paris\",80,\"normal\",\"A4\")\n",
    "L1.afficher()"
   ]
  },
  {
   "cell_type": "code",
   "execution_count": 17,
   "metadata": {},
   "outputs": [
    {
     "name": "stdout",
     "output_type": "stream",
     "text": [
      "Colis : \n",
      "Adresse destination: Marrakeche \n",
      "Adress expedition: Barcelone \n",
      "Poids: 3500.000000 grammes \n",
      "Mode :expresse\n",
      "Volume : 2.25\n",
      "Prix timbre : 8.125000\n"
     ]
    }
   ],
   "source": [
    "C1=colis(\"Marrakeche\",\"Barcelone\",3500,\"expresse\",2.25)\n",
    "C1.afficher()"
   ]
  },
  {
   "cell_type": "code",
   "execution_count": 32,
   "metadata": {},
   "outputs": [],
   "source": [
    "## TP3 : \n",
    "# exercice 1: \n",
    "class Polynome :\n",
    "    def __init__(self,p):\n",
    "        self.p=p\n",
    "    def __str__(self) :\n",
    "        val=str(self.p[0])\n",
    "        for i in range(1,len(self.p)):\n",
    "            if self.p[i]>=0:\n",
    "                val+='+'+str(self.p[i])+'*x^'+str(i)\n",
    "            else:\n",
    "                val+=str(self.p[i])+'*x^'+str(i)\n",
    "        return val\n",
    "    def getDergree(self):\n",
    "        return len(self.p)\n",
    "    def getValeur(self,x):\n",
    "        v=0\n",
    "        for i in range (len(self.p)): \n",
    "            v=v+self.p[i]*(x**i)\n",
    "        return v\n",
    "    def getDerive(self,x):\n",
    "        d=0\n",
    "        for i in range(1,len(self.p)):\n",
    "            d=d+i*self.p[i]*(x**(i-1))\n",
    "        return d\n",
    "    def __eq__(self,other):\n",
    "        if not isinstance ( other , Polynome ) :\n",
    "            return False\n",
    "        if(self is other):\n",
    "            return True \n",
    "        if len(self.p)!=len(other.p):\n",
    "            return False\n",
    "        else:\n",
    "            for i in range (0,len(self.p)):\n",
    "                if self.p[i]!=other.p[i]:\n",
    "                    return False\n",
    "            return True\n",
    "    def __add__(self,other):\n",
    "        s=[0]*(max(len(self.p),len(other.p)))\n",
    "        if len(self.p)==len(other.p):\n",
    "            for i in range (len(self.p)):\n",
    "                s[i]=self.p[i]+other.p[i]\n",
    "            return s\n",
    "        elif len(self.p)>len(other.p):\n",
    "            for i in range (len(other.p)):\n",
    "                s[i]=self.p[i]+other.p[i]\n",
    "            for i in range(len(other.p),len(self.p)):\n",
    "                s[i]=self.p[i]\n",
    "            return s\n",
    "        elif len(self.p)<len(other.p):\n",
    "            for i in range (len(self.p)):\n",
    "                s[i]=self.p[i]+other.p[i]\n",
    "            for i in range(len(self.p),len(other.p)):\n",
    "                s[i]=other.p[i]\n",
    "            return s\n",
    "            "
   ]
  },
  {
   "cell_type": "code",
   "execution_count": 33,
   "metadata": {},
   "outputs": [
    {
     "name": "stdout",
     "output_type": "stream",
     "text": [
      "0.8571-0.0714*x^1-0.9286*x^2+0.0714*x^3+0.0714*x^4\n"
     ]
    }
   ],
   "source": [
    "p=Polynome([0.8571, -0.0714,-0.9286,0.0714,0.0714])\n",
    "print(p)"
   ]
  },
  {
   "cell_type": "code",
   "execution_count": 20,
   "metadata": {},
   "outputs": [
    {
     "data": {
      "text/plain": [
       "-0.00010000000000001674"
      ]
     },
     "execution_count": 20,
     "metadata": {},
     "output_type": "execute_result"
    }
   ],
   "source": [
    "p.getValeur(1)"
   ]
  },
  {
   "cell_type": "code",
   "execution_count": 21,
   "metadata": {},
   "outputs": [
    {
     "data": {
      "text/plain": [
       "0.8571"
      ]
     },
     "execution_count": 21,
     "metadata": {},
     "output_type": "execute_result"
    }
   ],
   "source": [
    "p.getValeur(0)"
   ]
  },
  {
   "cell_type": "code",
   "execution_count": 22,
   "metadata": {},
   "outputs": [
    {
     "data": {
      "text/plain": [
       "-0.0714"
      ]
     },
     "execution_count": 22,
     "metadata": {},
     "output_type": "execute_result"
    }
   ],
   "source": [
    "p.getDerive(0)"
   ]
  },
  {
   "cell_type": "code",
   "execution_count": 392,
   "metadata": {},
   "outputs": [
    {
     "name": "stdout",
     "output_type": "stream",
     "text": [
      "[1.7142, -0.1428, -1.8572, 0.1428, 0.0714]\n"
     ]
    }
   ],
   "source": [
    "p1=Polynome([0.8571, -0.0714,-0.9286,0.0714])\n",
    "print (p+p1)"
   ]
  },
  {
   "cell_type": "code",
   "execution_count": 401,
   "metadata": {},
   "outputs": [],
   "source": [
    "#exercice 2 :\n",
    "class solveur(Polynome):\n",
    "    def __init__(self,p,prec):\n",
    "        Polynome.__init__(self,p)\n",
    "        self.prec=prec\n",
    "        \n",
    "        \n",
    "    def newton(self,x0):\n",
    "        U=self.prec+1\n",
    "        while (self.p.getValeur(x0)!=0 and abs(U)>self.prec):\n",
    "            U=self.p.getValeur(x0)/self.p.getDerive(x0)\n",
    "            x0=x0-U\n",
    "        return x0\n",
    "\n",
    "\n",
    "    def dichotomie(self,a,b):\n",
    "        if self.p.getValeur(a)==0:\n",
    "            return a\n",
    "        elif self.p.getValeur(b)==0:\n",
    "            return b\n",
    "        else :\n",
    "            c=(b+a)/2\n",
    "            \n",
    "        while (self.p.getValeur(c)!=0 and b-a<self.prec):\n",
    "            if self.p.getValeur(c)*self.p.getValeur(a)<0:\n",
    "                b=c\n",
    "            else :\n",
    "                a=c\n",
    "            c=(b+a)/2\n",
    "        return c "
   ]
  },
  {
   "cell_type": "code",
   "execution_count": 404,
   "metadata": {},
   "outputs": [
    {
     "data": {
      "text/plain": [
       "3.000825217377095"
      ]
     },
     "execution_count": 404,
     "metadata": {},
     "output_type": "execute_result"
    }
   ],
   "source": [
    "prec=0.00001\n",
    "s=solveur(p,prec)\n",
    "s.newton(2)\n"
   ]
  },
  {
   "cell_type": "code",
   "execution_count": 405,
   "metadata": {},
   "outputs": [
    {
     "data": {
      "text/plain": [
       "2.5"
      ]
     },
     "execution_count": 405,
     "metadata": {},
     "output_type": "execute_result"
    }
   ],
   "source": [
    "s.dichotomie(0,5)"
   ]
  },
  {
   "cell_type": "code",
   "execution_count": 44,
   "metadata": {},
   "outputs": [],
   "source": [
    "class Agence:\n",
    "    def __init__(self,nom):\n",
    "        self.nom=nom\n",
    "        self.nClient=len()\n",
    "    def __str__(self):\n",
    "        return \"Nom de l'agence: {}\".format( self.nom)\n",
    "    def lister_clients(self):\n",
    "        "
   ]
  },
  {
   "cell_type": "code",
   "execution_count": 45,
   "metadata": {},
   "outputs": [
    {
     "name": "stdout",
     "output_type": "stream",
     "text": [
      "Nom de l'agence: Lina\n"
     ]
    }
   ],
   "source": [
    "a=Agence(\"Lina\")\n",
    "print(a)"
   ]
  },
  {
   "cell_type": "code",
   "execution_count": 46,
   "metadata": {},
   "outputs": [],
   "source": [
    "import random"
   ]
  },
  {
   "cell_type": "code",
   "execution_count": 47,
   "metadata": {},
   "outputs": [
    {
     "data": {
      "text/plain": [
       "2"
      ]
     },
     "execution_count": 47,
     "metadata": {},
     "output_type": "execute_result"
    }
   ],
   "source": [
    "random.choice([0,1,2])"
   ]
  },
  {
   "cell_type": "code",
   "execution_count": null,
   "metadata": {},
   "outputs": [],
   "source": []
  }
 ],
 "metadata": {
  "kernelspec": {
   "display_name": "Python 3",
   "language": "python",
   "name": "python3"
  },
  "language_info": {
   "codemirror_mode": {
    "name": "ipython",
    "version": 3
   },
   "file_extension": ".py",
   "mimetype": "text/x-python",
   "name": "python",
   "nbconvert_exporter": "python",
   "pygments_lexer": "ipython3",
   "version": "3.6.2"
  }
 },
 "nbformat": 4,
 "nbformat_minor": 2
}
