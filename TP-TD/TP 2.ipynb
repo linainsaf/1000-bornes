{
 "cells": [
  {
   "cell_type": "code",
   "execution_count": 5,
   "metadata": {},
   "outputs": [],
   "source": [
    "#exercice 1 : \n",
    "\n",
    "def getValeur(p,x): #fonction qui donne la valeur du polynome à x\n",
    "    v=0\n",
    "    for i in range (len(p)): \n",
    "        v=v+p[i]*(x**i)\n",
    "    return v\n",
    "\n",
    "def getDerivee(p,x): #calcule et renvoie la valeur de la derivee du polynome p au point x\n",
    "    d=0\n",
    "    for i in range(1,len(p)):\n",
    "        d=d+i*p[i]*(x**(i-1))\n",
    "    return d"
   ]
  },
  {
   "cell_type": "code",
   "execution_count": 6,
   "metadata": {},
   "outputs": [
    {
     "data": {
      "text/plain": [
       "8"
      ]
     },
     "execution_count": 6,
     "metadata": {},
     "output_type": "execute_result"
    }
   ],
   "source": [
    "#test : \n",
    "p=[1,2,3]\n",
    "getValeur(p,1)  \n",
    "getDerivee(p,1)"
   ]
  },
  {
   "cell_type": "code",
   "execution_count": 7,
   "metadata": {},
   "outputs": [],
   "source": [
    "#exercice 2 : \n",
    "#calcule une racine d’un polynome par dichotomie\n",
    "def dichotomie( p, xMin, xMax, eps ):\n",
    "    if getValeur(p,xMin)==0:\n",
    "        return xMin\n",
    "    elif getValeur(p,xMax)==0:\n",
    "        return xMax\n",
    "    else :\n",
    "        c=(xMax+xMin)/2\n",
    "        while (getValeur(p,c)!=0 and xMax-xMin<eps):\n",
    "            if getValeur(p,c)*getValeur(p,xMin)<0:\n",
    "                xMax=c\n",
    "            else :\n",
    "                xMin=c\n",
    "        return c\n",
    "                "
   ]
  },
  {
   "cell_type": "code",
   "execution_count": 8,
   "metadata": {},
   "outputs": [],
   "source": [
    " #calcule une racine d’un polynome par la methode de Newton\n",
    "def newton(p,x0,eps):\n",
    "    uN=eps+1\n",
    "    while (getValeur(p,x0)!=0 and abs(uN)>eps):\n",
    "        uN=getValeur(p,x0)/getDerivee(p,x0)\n",
    "        x0=x0-uN\n",
    "    return x0"
   ]
  },
  {
   "cell_type": "code",
   "execution_count": 9,
   "metadata": {},
   "outputs": [
    {
     "name": "stdout",
     "output_type": "stream",
     "text": [
      "dicothomie= 2.5\n",
      "newton = 3.000825217377095\n",
      "dicothomie= 1.0\n",
      "newton = 1.0\n"
     ]
    }
   ],
   "source": [
    "p=[0.8571, -0.0714,-0.9286,0.0714,0.0714]\n",
    "\n",
    "print(\"dicothomie=\",dichotomie(p,0,5,0.00001))\n",
    "print(\"newton =\",newton(p,2,0.00001))\n",
    "\n",
    "#essai \n",
    "p=[-1, 1,0,0,0]\n",
    "print(\"dicothomie=\",dichotomie(p,0,2,0.00001))\n",
    "print(\"newton =\",newton(p,2,0.00001))"
   ]
  },
  {
   "cell_type": "code",
   "execution_count": 35,
   "metadata": {},
   "outputs": [],
   "source": [
    "#exo3\n",
    "#question1\n",
    "def affichage(p):\n",
    "    val=str(p[0])\n",
    "    for i in range(1,len(p)):\n",
    "        if p[i]>=0:\n",
    "            val+='+'+str(p[i])+'*x^'+str(i)\n",
    "        else:\n",
    "            val+=str(p[i])+'*x^'+str(i)\n",
    "    return val\n"
   ]
  },
  {
   "cell_type": "code",
   "execution_count": 37,
   "metadata": {},
   "outputs": [
    {
     "name": "stdout",
     "output_type": "stream",
     "text": [
      "p(x)= 0.8571-0.0714*x^1-0.9286*x^2+0.0714*x^3+0.0714*x^4\n"
     ]
    }
   ],
   "source": [
    "p=[0.8571, -0.0714,-0.9286,0.0714,0.0714]\n",
    "print('p(x)=',affichage(p))"
   ]
  },
  {
   "cell_type": "code",
   "execution_count": 38,
   "metadata": {},
   "outputs": [],
   "source": [
    "\n",
    "#question2\n",
    "def egalite(p1,p2):\n",
    "    if len(p1)!=len(p2):\n",
    "        return False\n",
    "    else:\n",
    "        for i in range (0,len(p1)):\n",
    "            if p1[i]!=p2[i]:\n",
    "                return False\n",
    "        return True"
   ]
  },
  {
   "cell_type": "code",
   "execution_count": 40,
   "metadata": {},
   "outputs": [
    {
     "name": "stdout",
     "output_type": "stream",
     "text": [
      "True\n"
     ]
    }
   ],
   "source": [
    "\n",
    "p1=[1,2,3,4]\n",
    "p2=[1,2,3,4]\n",
    "print(egalite(p1,p2))\n"
   ]
  },
  {
   "cell_type": "code",
   "execution_count": 48,
   "metadata": {},
   "outputs": [],
   "source": [
    "def racine(p,xo,eps):\n",
    "    uN=eps+1\n",
    "    cmpt=0\n",
    "    while getDerivee(p,xo)!=0 and abs(uN)>eps and cmpt<1000:\n",
    "        uN=getValeur(p,xo)/getDerivee(p,xo)\n",
    "        xo-=uN\n",
    "        cmpt+=1\n",
    "    \n",
    "    return xo,abs(uN)<=eps"
   ]
  },
  {
   "cell_type": "code",
   "execution_count": 49,
   "metadata": {},
   "outputs": [
    {
     "name": "stdout",
     "output_type": "stream",
     "text": [
      "racine = (3.000825217377095, True)\n",
      "racine = (2, False)\n"
     ]
    }
   ],
   "source": [
    "p=[0.8571, -0.0714,-0.9286,0.0714,0.0714]\n",
    "print(\"racine =\",racine(p,2,0.00001))\n",
    "p=[1]\n",
    "print(\"racine =\",racine(p,2,0.00001))"
   ]
  },
  {
   "cell_type": "code",
   "execution_count": null,
   "metadata": {},
   "outputs": [],
   "source": []
  }
 ],
 "metadata": {
  "kernelspec": {
   "display_name": "Python 3",
   "language": "python",
   "name": "python3"
  },
  "language_info": {
   "codemirror_mode": {
    "name": "ipython",
    "version": 3
   },
   "file_extension": ".py",
   "mimetype": "text/x-python",
   "name": "python",
   "nbconvert_exporter": "python",
   "pygments_lexer": "ipython3",
   "version": "3.6.2"
  }
 },
 "nbformat": 4,
 "nbformat_minor": 2
}
