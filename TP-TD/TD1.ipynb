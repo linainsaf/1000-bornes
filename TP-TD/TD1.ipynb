{
 "cells": [
  {
   "cell_type": "markdown",
   "metadata": {},
   "source": [
    "# TD/TP 1 : Démarrer en python"
   ]
  },
  {
   "cell_type": "markdown",
   "metadata": {},
   "source": [
    "### 1. Types de variables"
   ]
  },
  {
   "cell_type": "markdown",
   "metadata": {},
   "source": [
    "**1.1** Les instructions suivantes créent et initialisent les variables n, p et x. Quels sont les types de ces trois variables ?\n",
    "\n",
    "    n = 10 \n",
    "    p = 7 \n",
    "    x = 2. "
   ]
  },
  {
   "cell_type": "markdown",
   "metadata": {},
   "source": [
    "**1.2** Compléter et exécuter les cellules ci-dessous de façon à vérifier vos réponses."
   ]
  },
  {
   "cell_type": "code",
   "execution_count": null,
   "metadata": {},
   "outputs": [],
   "source": [
    "# instruction pour créer n \n",
    "n=10\n",
    "\n",
    "# instruction pour afficher la valeur de n\n",
    "n\n",
    "\n",
    "# instruction pour renvoyer le type de n\n",
    "type(n)\n"
   ]
  },
  {
   "cell_type": "code",
   "execution_count": null,
   "metadata": {},
   "outputs": [],
   "source": [
    "# instruction pour créer p\n",
    "p=7\n",
    "\n",
    "# instruction pour afficher la valeur de p\n",
    "p\n",
    "\n",
    "# instruction pour renvoyer le type de p\n",
    "type(p)"
   ]
  },
  {
   "cell_type": "code",
   "execution_count": null,
   "metadata": {
    "scrolled": true
   },
   "outputs": [],
   "source": [
    "# instruction pour créer x \n",
    "x=2.\n",
    "# instruction pour afficher la valeur de x\n",
    "x\n",
    "# instruction pour renvoyer le type de x\n",
    "type(x)"
   ]
  },
  {
   "cell_type": "code",
   "execution_count": null,
   "metadata": {},
   "outputs": [],
   "source": [
    "p"
   ]
  },
  {
   "cell_type": "markdown",
   "metadata": {},
   "source": [
    "**1.3** Donner le type et la valeur des expressions suivantes :\n",
    "\n",
    "       a. x+n/p\n",
    "       b. (x+n)/p\n",
    "       c. 5. * n\n",
    "       d. (n + 1) / n\n",
    "       e. (n + 1) // n\n",
    "       f. (n + 1.) // n\n",
    "    \n",
    "Vérifiez vos résultats en exécutant les instructions dans la cellule ci-dessous."
   ]
  },
  {
   "cell_type": "code",
   "execution_count": null,
   "metadata": {},
   "outputs": [],
   "source": [
    "# instructions pour vérifier les réponses de la question a\n",
    "a=x+n/p\n",
    "type(a)\n"
   ]
  },
  {
   "cell_type": "code",
   "execution_count": null,
   "metadata": {},
   "outputs": [],
   "source": [
    "# instructions pour vérifier les réponses de la question b\n",
    "b=(x+n)/p\n",
    "type(b)\n"
   ]
  },
  {
   "cell_type": "code",
   "execution_count": null,
   "metadata": {},
   "outputs": [],
   "source": [
    "# instructions pour vérifier les réponses de la question c\n",
    "c= 5.*n\n",
    "type(c)"
   ]
  },
  {
   "cell_type": "code",
   "execution_count": null,
   "metadata": {},
   "outputs": [],
   "source": [
    "# instructions pour vérifier les réponses de la question d\n",
    "d=(n+1)/n\n",
    "type(d)\n"
   ]
  },
  {
   "cell_type": "code",
   "execution_count": null,
   "metadata": {},
   "outputs": [],
   "source": [
    "# instructions pour vérifier les réponses de la question e\n",
    "e=(n+1)//n\n",
    "type(e)"
   ]
  },
  {
   "cell_type": "code",
   "execution_count": null,
   "metadata": {},
   "outputs": [],
   "source": [
    "# instructions pour vérifier les réponses de la question f\n",
    "f=(n+1.)//n\n",
    "type(f)"
   ]
  },
  {
   "cell_type": "markdown",
   "metadata": {},
   "source": [
    "### 2. Entrées / sorties"
   ]
  },
  {
   "cell_type": "markdown",
   "metadata": {},
   "source": [
    "**2.1** Ecrire un programme qui demande à l’utilisateur un entier puis l’affiche. Un exemple d’éxécution est donné ci-dessous :\n",
    "\n",
    "    Veuillez entrer un entier : 42\n",
    "    Vous avez saisi 42"
   ]
  },
  {
   "cell_type": "code",
   "execution_count": null,
   "metadata": {},
   "outputs": [],
   "source": [
    "# bloc d'instructions à compléter et à exécuter\n",
    "print('Veuillez entrer un entier : ')\n",
    "m=int(input())\n",
    "print('vous avez saisi ', m)\n"
   ]
  },
  {
   "cell_type": "markdown",
   "metadata": {},
   "source": [
    "**2.2** Compléter le programme précédent pour qu’il demande aussi un réel puis affiche les 2 valeurs saisies. Un exemple d’exécution est donné ci-dessous :\n",
    "\n",
    "    Veuillez entrer un entier : 42\n",
    "    Veuillez entrer un réel : 13.37\n",
    "    Vous avez saisi 42 et 13.37"
   ]
  },
  {
   "cell_type": "code",
   "execution_count": null,
   "metadata": {},
   "outputs": [],
   "source": [
    "# bloc d'instructions à compléter et à exécuter\n",
    "print('Veuillez entrer un entier : ')\n",
    "m=int(input())\n",
    "print('Veuillez entrer un reel : ')\n",
    "f=float(input())\n",
    "print('vous avez saisi ',m,'et',f)"
   ]
  },
  {
   "cell_type": "markdown",
   "metadata": {},
   "source": [
    "**2.3** Ecrire un programme qui demande à l’utilisateur un charactère puis affiche le caractère et son code ASCII. On rappelle que le code ASCII d’une lettre correspond à un entier donnant sa position dans la table ASCII ; on pourra l’obtenir par l’appel à la fonction ord. Un exemple d’exécution est donné ci-dessous :\n",
    "\n",
    "    Veuillez entrer un charactère : b\n",
    "    Vous avez saisi b dont le code ASCII est 98"
   ]
  },
  {
   "cell_type": "code",
   "execution_count": null,
   "metadata": {},
   "outputs": [],
   "source": [
    "# bloc d'instructions à compléter et à exécuter\n",
    "print('Veuillez entrer un charactére : ')\n",
    "c=input()\n",
    "print('Vous avez saisi',c, 'dont le code ASCII est', ord(c))"
   ]
  },
  {
   "cell_type": "markdown",
   "metadata": {},
   "source": [
    "### 3. Structures de contrôle\n",
    "\n",
    "**3.1** Ecrire un programme qui demande un nombre à l'utilisateur et teste si ce nombre est positif."
   ]
  },
  {
   "cell_type": "code",
   "execution_count": null,
   "metadata": {},
   "outputs": [],
   "source": [
    "# bloc d'instructions à compléter et à exécuter\n",
    "print('Veuillez entrer un nombre : ')\n",
    "m=float(input())\n",
    "if m > 0 : print('Le nombre que vous avez saisi est positif ')\n",
    "else     : print('Le nombre que vous avez saisi n est pas positif')\n",
    "    "
   ]
  },
  {
   "cell_type": "markdown",
   "metadata": {},
   "source": [
    "**3.2** Ecrire un programme qui demande un nombre à l’utilisateur et teste si ce nombre est strictement positif, nul\n",
    "ou strictement négatif."
   ]
  },
  {
   "cell_type": "code",
   "execution_count": null,
   "metadata": {},
   "outputs": [],
   "source": [
    "# bloc d'instructions à compléter et à exécuter\n",
    "print('Veuillez entrer un nombre : ')\n",
    "m=float(input())\n",
    "if   m > 0  : \n",
    "    print('Le nombre que vous avez saisi est positif ')\n",
    "elif m < 0  : \n",
    "    print('Le nombre que vous avez saisi n est pas positif')\n",
    "else: \n",
    "    print('Le nombre que vous avez saisi  est nul')"
   ]
  },
  {
   "cell_type": "markdown",
   "metadata": {},
   "source": [
    "**3.3** Ecrire un programme qui demande une année et affiche si celle-ci est bissextile ou non. Les années bissextiles\n",
    "sont les années : soit divisibles par 4 mais non divisibles par 100, soit divisibles par 400."
   ]
  },
  {
   "cell_type": "code",
   "execution_count": null,
   "metadata": {},
   "outputs": [],
   "source": [
    "# bloc d'instructions à compléter et à exécuter\n",
    "print('Veuillez donner une année :')\n",
    "annee=int(input())\n",
    "if annee%400==0 or (annee%4==0 and annee%100!=0):\n",
    "    print('cette année est bissextiles')\n",
    "else: \n",
    "    print('cette année nest pas bissextiles')\n",
    "\n"
   ]
  },
  {
   "cell_type": "markdown",
   "metadata": {},
   "source": [
    "### 4. Fonctions, boucles et premiers algorithmes"
   ]
  },
  {
   "cell_type": "markdown",
   "metadata": {},
   "source": [
    "**4.1** Ecrire une _fonction_ qui calcule et renvoie la somme des N premiers entiers. N est un paramètre d'entrée de la fonction. Tester la fonction sur quelques exemples. Un exemple d’éxécution est donné ci-dessous :\n",
    "\n",
    "    Veuillez entrer un entier : 5\n",
    "    La somme des 5 premiers entiers est 15"
   ]
  },
  {
   "cell_type": "code",
   "execution_count": null,
   "metadata": {},
   "outputs": [],
   "source": [
    "# bloc d'instructions à compléter et à exécuter\n",
    "def somme(n):\n",
    "    s=0\n",
    "    for i in range (n+1):\n",
    "        s=s+i\n",
    "    print('La somme des',n,'premiers entiers est',s)\n",
    "print('veuillez entrer un entier')\n",
    "n=int(input())\n",
    "somme(n)"
   ]
  },
  {
   "cell_type": "markdown",
   "metadata": {},
   "source": [
    "**4.2** Ecrire une _fonction_ qui calcule et renvoie N!, où N est un paramètre d'entrée de la fonction. Tester la fonction sur quelques exemples. Un exemple d’éxécution est donné ci-dessous :\n",
    "\n",
    "    Veuillez entrer un entier : 5\n",
    "    5! = 120"
   ]
  },
  {
   "cell_type": "code",
   "execution_count": 1,
   "metadata": {},
   "outputs": [
    {
     "data": {
      "text/plain": [
       "6"
      ]
     },
     "execution_count": 1,
     "metadata": {},
     "output_type": "execute_result"
    }
   ],
   "source": [
    "# bloc d'instructions à compléter et à exécuter\n",
    "def factoriel(n):\n",
    "    p=1\n",
    "    for i in range (1,n+1):\n",
    "        p=p*i\n",
    "    return p\n",
    "factoriel(3)"
   ]
  },
  {
   "cell_type": "markdown",
   "metadata": {},
   "source": [
    "**4.3** Ecrire une _fonction_ qui calcule et renvoie x^N, où x et N sont des paramètres d'entrée de la fonction. Tester la fonction sur quelques exemples. Un exemple d’éxécution est donné ci-dessous :\n",
    "\n",
    "    Veuillez entrer un réel : 2.5\n",
    "    Veuillez entrer un entier positif : 3\n",
    "    2.5^3 = 15.625"
   ]
  },
  {
   "cell_type": "code",
   "execution_count": 2,
   "metadata": {},
   "outputs": [
    {
     "name": "stdout",
     "output_type": "stream",
     "text": [
      "veuillez entrer un réel:\n",
      "4\n",
      "veuillez entrer un entier positif:\n",
      "4\n"
     ]
    },
    {
     "data": {
      "text/plain": [
       "256.0"
      ]
     },
     "execution_count": 2,
     "metadata": {},
     "output_type": "execute_result"
    }
   ],
   "source": [
    "# bloc d'instructions à compléter et à exécuter\n",
    "def puissance(x,N):\n",
    "        p=x**N\n",
    "        return p\n",
    "    \n",
    "print('veuillez entrer un réel:')\n",
    "x=float(input())\n",
    "print('veuillez entrer un entier positif:')\n",
    "N=int(input())\n",
    "puissance(x,N)"
   ]
  },
  {
   "cell_type": "markdown",
   "metadata": {},
   "source": [
    "**4.4** Ecrire une _fonction_ qui utilise le développement en série de exp pour calculer une valeur approchée de exp(x), avec une précision donnée eps = 10^(-n). x et n sont les paramètres d'entrée de la fonction. La fonction renvoie la valeur de exp(x) ainsi que le nombre de termes du développement en série utilisé pour la précision considérée. Tester la fonction sur quelques exemples. Vérifier vos résultats avec la fonction native _exp_. Un exemple d’éxécution est donné ci-dessous :\n",
    "\n",
    "    Calcul de exp(x) à 10^-n près :\n",
    "    Veuillez entrer x : 2.\n",
    "    Veuillez entrer n : 3 \n",
    "    Résultat : exp(2.0) = \n",
    "    exp(2.0) = 7.3887125220458545 - calcul avec 10 terme(s)\n",
    "    Vérification : math.exp(x) = 7.38905609893065"
   ]
  },
  {
   "cell_type": "code",
   "execution_count": 7,
   "metadata": {},
   "outputs": [],
   "source": [
    "import math"
   ]
  },
  {
   "cell_type": "code",
   "execution_count": 9,
   "metadata": {},
   "outputs": [
    {
     "data": {
      "text/plain": [
       "(7.3887125220458545, 0.001, 10)"
      ]
     },
     "execution_count": 9,
     "metadata": {},
     "output_type": "execute_result"
    }
   ],
   "source": [
    "# bloc d'instructions à compléter et à exécuter\n",
    "def expo(x,n):\n",
    "    i=0\n",
    "    eps=puissance(10,-n)\n",
    "    exp=[0,1]\n",
    "    while abs(exp[i+1]-exp[i])>eps and i<20:\n",
    "        exp.append(exp[i+1]+(puissance(x,i+1))/factoriel(i+1))\n",
    "        i=i+1\n",
    "    return exp[i],eps,i\n",
    "\n",
    "expo(2.,3)"
   ]
  },
  {
   "cell_type": "markdown",
   "metadata": {},
   "source": [
    "### 5. Boucles imbriquées"
   ]
  },
  {
   "cell_type": "markdown",
   "metadata": {},
   "source": [
    "**5.1** Ecrire une fonction qui affiche un échiquier de largeur N, où N est un paramètre d'entrée de la fonction. L'échiquier est un carré de côté N, dessiné avec les conventions suivantes : (a) les cases noires sont représentées par un ”X” et les cases blanches par ” ”, (b) le tour de l’échiquier et de chaque case est représenté par les caractères + (coin), | (ligne verticale) et - (ligne horizontale). \n",
    "\n",
    "Tester la fonction sur quelques exemples. Un exemple d’affichage est  montré ci-dessous ( échiquier 4x4) :\n",
    "\n",
    "    Veuillez entrer un entier : 4\n",
    "    Voici un échiquier 4x4\n",
    "    +---+---+---+---+\n",
    "    |   | X |   | X |\n",
    "    +---+---+---+---+\n",
    "    | X |   | X |   |\n",
    "    +---+---+---+---+\n",
    "    |   | X |   | X |\n",
    "    +---+---+---+---+\n",
    "    | X |   | X |   |\n",
    "    +---+---+---+---+"
   ]
  },
  {
   "cell_type": "code",
   "execution_count": 46,
   "metadata": {},
   "outputs": [
    {
     "name": "stdout",
     "output_type": "stream",
     "text": [
      "+---+---+---+---+---+---+\n",
      "|   | X |   | X |   | X |\n",
      "+---+---+---+---+---+---+\n",
      "| X |   | X |   | X |   |\n",
      "+---+---+---+---+---+---+\n",
      "|   | X |   | X |   | X |\n",
      "+---+---+---+---+---+---+\n",
      "| X |   | X |   | X |   |\n",
      "+---+---+---+---+---+---+\n",
      "|   | X |   | X |   | X |\n",
      "+---+---+---+---+---+---+\n",
      "| X |   | X |   | X |   |\n",
      "+---+---+---+---+---+---+\n",
      "\n"
     ]
    }
   ],
   "source": [
    "# bloc d'instructions à compléter et à exécuter\n",
    "def echiquier(N):\n",
    "    for i in range (N):\n",
    "        if i%2==0:\n",
    "            print('+---'*N+'+\\n'+'|   | X '*(N//2)+'|')\n",
    "        else :\n",
    "            print ('+---'*N+'+\\n'+'| X |   '*(N//2)+'|')\n",
    "    print('+---'*N+'+\\n')\n",
    "echiquier(6)"
   ]
  },
  {
   "cell_type": "markdown",
   "metadata": {},
   "source": [
    "**5.2** Ecrire une fonction qui affiche une pyramide droite de N lignes composées d'un caractère c, où N et c sont des paramètres d'entrée de la fonction. \n",
    "Tester la fonction sur quelques exemples. Un exemple d’affichage est  montré ci-dessous :\n",
    "\n",
    "    Veuillez entrer un entier : 4\n",
    "    Veuillez entrer un caractère : h\n",
    "    Voici la pyramide :\n",
    "    h\n",
    "    hh\n",
    "    hhh\n",
    "    hhhh"
   ]
  },
  {
   "cell_type": "code",
   "execution_count": 21,
   "metadata": {},
   "outputs": [],
   "source": [
    "# bloc d'instructions à compléter et à exécuter\n",
    "def afficherPyramide(n,c):\n",
    "    for i in range(n):\n",
    "        pyramide=' '*i\n",
    "        for j in range (2*(n-i)-1):\n",
    "            pyramide=pyramide+c\n",
    "        print (pyramide)"
   ]
  },
  {
   "cell_type": "code",
   "execution_count": 24,
   "metadata": {},
   "outputs": [
    {
     "name": "stdout",
     "output_type": "stream",
     "text": [
      "hhhhhhh\n",
      " hhhhh\n",
      "  hhh\n",
      "   h\n"
     ]
    }
   ],
   "source": [
    "afficherPyramide(4,'h')"
   ]
  },
  {
   "cell_type": "code",
   "execution_count": null,
   "metadata": {},
   "outputs": [],
   "source": []
  }
 ],
 "metadata": {
  "kernelspec": {
   "display_name": "Python 3",
   "language": "python",
   "name": "python3"
  },
  "language_info": {
   "codemirror_mode": {
    "name": "ipython",
    "version": 3
   },
   "file_extension": ".py",
   "mimetype": "text/x-python",
   "name": "python",
   "nbconvert_exporter": "python",
   "pygments_lexer": "ipython3",
   "version": "3.6.2"
  }
 },
 "nbformat": 4,
 "nbformat_minor": 2
}
