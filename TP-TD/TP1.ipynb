{
 "cells": [
  {
   "cell_type": "markdown",
   "metadata": {},
   "source": [
    "# TD/TP 2 : Manipuler les tableaux et les chaines de charactères"
   ]
  },
  {
   "cell_type": "markdown",
   "metadata": {},
   "source": [
    "## 1. Fonctions et passage de paramètres :\n",
    "**Défi 1 : qu'affiche le programme ci-dessous ?**\n",
    "    \n",
    "    def A ( x ) :\n",
    "        x = x + 1\n",
    "        print ( \"A => \", x[0] )\n",
    "        return x\n",
    "\n",
    "    def B ( x ) :\n",
    "        x = x + 1\n",
    "        print ( \"B => 1er affichage : \", x )\n",
    "        A( x )\n",
    "        print ( \"B => 2eme affichage : \", x )\n",
    "        return x\n",
    "\n",
    "    def C ( x ) :\n",
    "        x = 3\n",
    "        A( x )\n",
    "        print ( \"C => 1er affichage : \", x )\n",
    "        x = B( x )\n",
    "        print ( \"C => 2eme affichage : \", x )\n",
    "        return x\n",
    "\n",
    "    x = 5\n",
    "    C( x )\n",
    "    print ( \" main : \", x )"
   ]
  },
  {
   "cell_type": "code",
   "execution_count": 4,
   "metadata": {},
   "outputs": [],
   "source": [
    "# vérification de votre réponse au défi 1\n",
    "def A ( x ) :\n",
    "    x = x + 1\n",
    "    print ( \"A => \", x )\n",
    "    return x\n",
    "\n",
    "def B ( x ) :\n",
    "    x = x + 1\n",
    "    print ( \"B => 1er affichage : \", x )\n",
    "    A( x )\n",
    "    print ( \"B => 2eme affichage : \", x )\n",
    "    return x\n",
    "\n",
    "def C ( x ) :\n",
    "    x = 3\n",
    "    A( x )\n",
    "    print ( \"C => 1er affichage : \", x )\n",
    "    x = B( x )\n",
    "    print ( \"C => 2eme affichage : \", x )\n",
    "    return x"
   ]
  },
  {
   "cell_type": "code",
   "execution_count": 5,
   "metadata": {},
   "outputs": [
    {
     "name": "stdout",
     "output_type": "stream",
     "text": [
      "A =>  4\n",
      "C => 1er affichage :  3\n",
      "B => 1er affichage :  4\n",
      "A =>  5\n",
      "B => 2eme affichage :  4\n",
      "C => 2eme affichage :  4\n",
      " main :  5\n"
     ]
    }
   ],
   "source": [
    "x = 5\n",
    "C( x )\n",
    "print ( \" main : \", x )"
   ]
  },
  {
   "cell_type": "markdown",
   "metadata": {},
   "source": [
    "**Défi 2 : qu'affiche le programme ci-dessous ?** \n",
    "\n",
    "_Expliquer la différence fondamentale qui existe entre ce programme et le précédent._\n",
    "\n",
    "    def A ( x ) :\n",
    "        x[0] = x[0] + 1\n",
    "        print ( \"A => \", x[0] )\n",
    "        return x[0]\n",
    "\n",
    "    def B ( x ) :\n",
    "        x[0] = x[0] + 1\n",
    "        print ( \"B => 1er affichage : \", x[0] )\n",
    "        A( x )\n",
    "        print ( \"B => 2eme affichage : \", x[0] )\n",
    "        return x[0]\n",
    "\n",
    "    def C ( x ) :\n",
    "        x[0] = 3\n",
    "        A( x )\n",
    "        print ( \"C => 1er affichage : \", x[0] )\n",
    "        x = B( x )\n",
    "        print ( \"C => 2eme affichage : \", x[0] )\n",
    "        return x[0]\n",
    "\n",
    "    x = [5]\n",
    "    C( x )\n",
    "    print ( \" main : \", x )"
   ]
  },
  {
   "cell_type": "code",
   "execution_count": 14,
   "metadata": {},
   "outputs": [
    {
     "name": "stdout",
     "output_type": "stream",
     "text": [
      "A =>  4\n",
      "C => 1er affichage :  4\n",
      "B => 1er affichage :  5\n",
      "A =>  6\n",
      "B => 2eme affichage :  6\n",
      "C => 2eme affichage :  6\n",
      " main :  6\n"
     ]
    }
   ],
   "source": [
    "# vérification de votre réponse au défi 2\n",
    "def A ( x ) :\n",
    "    x[0] = x[0] + 1\n",
    "    print ( \"A => \", x[0] )\n",
    "    return x[0]\n",
    "\n",
    "def B ( x ) :\n",
    "    x[0] = x[0] + 1\n",
    "    print ( \"B => 1er affichage : \", x[0] )\n",
    "    A( x )\n",
    "    print ( \"B => 2eme affichage : \", x[0] )\n",
    "    return x[0]\n",
    "\n",
    "def C ( x ) :\n",
    "    x[0] = 3\n",
    "    A( x )\n",
    "    print ( \"C => 1er affichage : \", x[0] )\n",
    "    x[0] = B( x )\n",
    "    print ( \"C => 2eme affichage : \", x[0])\n",
    "    return x\n",
    "\n",
    "x = [5]\n",
    "C( x )\n",
    "print ( \" main : \", x[0]  )"
   ]
  },
  {
   "cell_type": "markdown",
   "metadata": {},
   "source": [
    "## 2. Tri dans un tableau\n",
    "On se donne un tableau d'entiers que l'on souhaite trier (par ordre croissant, par exemple)\n",
    "\n",
    "**2.1 Tri par sélection**\n",
    "\n",
    "Le principe de cet algorithme est simple et intuitif. La première étape consiste à rechercher l'élément le plus petit dans le tableau, puis à échanger cet élément avec celui contenu dans la première case du tableau. On recommence ensuite cette opération sur le reste du tableau (à partir de la deuxième case), et ainsi de suite jusqu'à ce que tous les éléments du tableau soient correctement placés. La figure ci-dessous montre le principe de l'algorithme sur un exemple.\n",
    "\n",
    "![title](triSelection.png)\n",
    "    \n",
    "**a.** Ecrire une fonction _echangePositions( t, i, j)_ qui échange le contenu de deux cases d'un tableau. Les paramètres d'entrée de la fonction sont : le nom du tableau _t_, les indices _i_ et _j_ des cases dont il faut échanger les contenus. \n",
    "\n",
    "Ecrire quelques instructions pour tester le fonctionnement de _echangePositions_."
   ]
  },
  {
   "cell_type": "code",
   "execution_count": 21,
   "metadata": {},
   "outputs": [],
   "source": [
    "# Fonction echangePositions\n",
    "def echangePositions(tab,i,j):\n",
    "    if tab[j] < tab[i]:\n",
    "        switch=tab[i]\n",
    "        tab[i]=tab[j]\n",
    "        tab[j]=switch\n",
    "    #print (\"tab[\",i,\"] =\",tab [i]  )\n",
    "    #print (\"tab[\",j,\"] =\",tab [j]  )\n",
    "    \n",
    "# Test de la fonction echangePositions\n",
    "t = [12, 1, 5, 26, 7, 14, 3, 7, 2]\n",
    "echangePositions(t,0,1)\n"
   ]
  },
  {
   "cell_type": "markdown",
   "metadata": {},
   "source": [
    "**b.** Ecrire une fonction _positionPlusPetit( t, p)_ qui renvoie la position du plus petit élément d'un tableau, à partir d'une position donnée. Les paramètres d'entrée de la fonction sont : le nom du tableau _t_, l'indice _p_ à partir duquel il faut rechercher le plus petit élément. \n",
    "\n",
    "Ecrire quelques instructions pour tester le fonctionnement de _positionPlusPetit_."
   ]
  },
  {
   "cell_type": "code",
   "execution_count": 22,
   "metadata": {},
   "outputs": [
    {
     "data": {
      "text/plain": [
       "8"
      ]
     },
     "execution_count": 22,
     "metadata": {},
     "output_type": "execute_result"
    }
   ],
   "source": [
    "# Fonction positionPlusPetit\n",
    "def positionPlusPetit (tab,p):\n",
    "    minElem=tab[p]\n",
    "    for i in range(p , len(tab)):\n",
    "        if tab[i] <= minElem :\n",
    "            minElem =tab[i] \n",
    "            pos=i\n",
    "    return pos\n",
    "\n",
    "# Test de la fonction echangePositions\n",
    "t = [12, 1, 5, 26, 7, 14, 3, 7, 2]\n",
    "positionPlusPetit(t,7)"
   ]
  },
  {
   "cell_type": "markdown",
   "metadata": {},
   "source": [
    "c. Ecrire une fonction _triTableau( t )_ qui trie les éléments d'un tableau _t_ par ordre croissant, suivant l'algorithme suivant :\n",
    "\n",
    "    Algorithme 1 : tri par sélection\n",
    "    Pour toutes les positions p du tableau, faire :\n",
    "        Chercher la position m du plus petit élément du tableau à partir de p\n",
    "        Echanger (si nécessaire) les éléments des positions p et m\n",
    "\n",
    "Tester le fonctionnement de la fonction _triTableau_."
   ]
  },
  {
   "cell_type": "code",
   "execution_count": 23,
   "metadata": {},
   "outputs": [
    {
     "name": "stdout",
     "output_type": "stream",
     "text": [
      "[1, 12, 5, 26, 7, 14, 3, 7, 2]\n",
      "[1, 2, 5, 26, 7, 14, 3, 7, 12]\n",
      "[1, 2, 3, 26, 7, 14, 5, 7, 12]\n",
      "[1, 2, 3, 5, 7, 14, 26, 7, 12]\n",
      "[1, 2, 3, 5, 7, 14, 26, 7, 12]\n",
      "[1, 2, 3, 5, 7, 7, 26, 14, 12]\n",
      "[1, 2, 3, 5, 7, 7, 12, 14, 26]\n",
      "[1, 2, 3, 5, 7, 7, 12, 14, 26]\n",
      "[1, 2, 3, 5, 7, 7, 12, 14, 26]\n"
     ]
    }
   ],
   "source": [
    "# Fonction triTableau\n",
    "def triTableau (tab,p) :\n",
    "    for i in range (p, len(tab)):\n",
    "        m = positionPlusPetit(tab,i)\n",
    "        echangePositions(tab,i,m)\n",
    "        print(tab)\n",
    "# Test de la fonction triTableau\n",
    "t = [12, 1, 5, 26, 7, 14, 3, 7, 2]\n",
    "triTableau (t,0)"
   ]
  },
  {
   "cell_type": "markdown",
   "metadata": {},
   "source": [
    "**2.2 Tri à bulles**\n",
    "\n",
    "Toujours aussi intuitivement, l'idée est de comparer successivement tous les éléments adjacents d'un tableau et de les échanger si le premier est supérieur au second. On recommence cette opération tant que tous les éléments ne sont pas triés.\n",
    "\n",
    "![title](triBulle.png)\n",
    "\n",
    "Dans l'exemple ci-dessus, on peut remarquer qu'après le premier balayage du tableau l'élément le plus grand se retrouve dans la dernière case. Au second passage, on peut donc limiter les tests d'échange en ne testant pas la dernière case. Ceci est valable à chaque passage, de sorte que la longueur de tableau traitée diminue à chaque itération.\n",
    "\n",
    "Ecrire une fonction _triABulle_ qui trie les éléments d'un tableau par ordre croissant, suivant l'algorithme suivant :\n",
    "\n",
    "    Algorithme 2 : tri à bulle\n",
    "    Tant que le tableau n'est pas trié, faire :\n",
    "        Pour tout couple d'éléments adjacents a et b, faire :\n",
    "            Sia>b, alors :\n",
    "                Echanger a et b"
   ]
  },
  {
   "cell_type": "code",
   "execution_count": 59,
   "metadata": {},
   "outputs": [
    {
     "data": {
      "text/plain": [
       "[1, 2, 3, 3, 5, 5, 7, 7, 12, 14, 26, 46, 199]"
      ]
     },
     "execution_count": 59,
     "metadata": {},
     "output_type": "execute_result"
    }
   ],
   "source": [
    "def triABulle(tab):\n",
    "    i=0\n",
    "    while  i < len(tab): \n",
    "        for j in range (1,len(tab)-i):\n",
    "            if tab[j-1] >= tab[j]:\n",
    "                echangePositions(tab,j-1,j)\n",
    "        i+=1   \n",
    "    return tab\n",
    "# Test de la fonction triABulle\n",
    "t = [12,199,46,3,5,1, 5, 26, 7, 14, 3, 7, 2]\n",
    "triABulle(t)"
   ]
  },
  {
   "cell_type": "markdown",
   "metadata": {},
   "source": [
    "### 3. Manipulation de chaînes de caractères\n",
    "Dans cette série d'exercices, on s'intéresse à la manipulation de chaînes de caractères (comptage de caractères, suppression de caractère, _etc_ ).\n",
    "\n",
    "**3.1 Comptage de lettres :** \n",
    "\n",
    "a. Ecrire une fonction _combienDeFoisLaLettre( phrase, lettre )_ dont les paramètres d'entrée sont une chaine de caractères _phrase_ et un caractère _lettre_ , et qui renvoie le nombre de fois où _lettre_ est contenu dans _phrase_. \n",
    "Tester la fonction _combienDeFoisLaLettre_.\n",
    "\n",
    "b. Rechercher dans la documentation python la fonction native qui fait la même chose que _combienDeFoisLaLettre_.\n",
    "https://docs.python.org/3/library/stdtypes.html#string-methods"
   ]
  },
  {
   "cell_type": "code",
   "execution_count": 8,
   "metadata": {},
   "outputs": [
    {
     "data": {
      "text/plain": [
       "'true'"
      ]
     },
     "execution_count": 8,
     "metadata": {},
     "output_type": "execute_result"
    }
   ],
   "source": [
    "def palindrome (name):\n",
    "    if name[::-1] == name:\n",
    "        return 'true' \n",
    "    else : \n",
    "        return 'false' \n",
    "\n",
    "    #test fonction\n",
    "palindrome('kayak')"
   ]
  },
  {
   "cell_type": "code",
   "execution_count": 12,
   "metadata": {},
   "outputs": [
    {
     "data": {
      "text/plain": [
       "1"
      ]
     },
     "execution_count": 12,
     "metadata": {},
     "output_type": "execute_result"
    }
   ],
   "source": [
    "# Fonction combienDeFoisLaLettre\n",
    "def combienDeFoisLaLettre( phrase, lettre ):\n",
    "    n=0\n",
    "    for i in range (len(phrase)):\n",
    "        if phrase[i]== lettre :\n",
    "            n+=1\n",
    "    return n\n",
    "# Test de la fonction combienDeFoisLaLettre\n",
    "combienDeFoisLaLettre('hello', 'p')\n",
    "# Fonction native\n",
    "str.count('hello','o')"
   ]
  },
  {
   "cell_type": "markdown",
   "metadata": {},
   "source": [
    "**3.2 Suppression d'un caractère :** \n",
    "\n",
    "a. Ecrire une fonction _supprCar( phrase, lettre )_ dont les paramètres d'entrée sont une chaine de caractères _phrase_ et un caractère _lettre_ , et qui renvoie la chaine de caractère modifiée. \n",
    "Tester la fonction _supprCar_.\n",
    "\n",
    "b. Rechercher dans la documentation python s'il existe une fonction native qui fait la même chose que _supprCar_."
   ]
  },
  {
   "cell_type": "code",
   "execution_count": 34,
   "metadata": {},
   "outputs": [
    {
     "data": {
      "text/plain": [
       "['hell', '']"
      ]
     },
     "execution_count": 34,
     "metadata": {},
     "output_type": "execute_result"
    }
   ],
   "source": [
    "# Fonction supprCar\n",
    "def supprCar( phrase, lettre ) :\n",
    "    result = phrase.replace(lettre,'') \n",
    "    return result\n",
    "# Test de la fonction supprCar\n",
    "#supprCar('hello','o')\n",
    "# Fonction native\n",
    "'hello'.split('o')"
   ]
  },
  {
   "cell_type": "markdown",
   "metadata": {},
   "source": [
    "**3.3 Comptage de mots :** \n",
    "\n",
    "Ecrire une fonction _combienDeMots( phrase )_ qui compte et renvoie le nombre de mots dans une phrase. On considère que les mots ne peuvent être séparés que par des espaces (_i.e._ pas de saut de ligne ou de tabulation). Pour cela, s'appuyer sur les fonctions associées au type String.\n",
    "\n",
    "Tester la fonction _combienDeMots_. "
   ]
  },
  {
   "cell_type": "code",
   "execution_count": 41,
   "metadata": {},
   "outputs": [
    {
     "data": {
      "text/plain": [
       "4"
      ]
     },
     "execution_count": 41,
     "metadata": {},
     "output_type": "execute_result"
    }
   ],
   "source": [
    "# Fonction combienDeMots\n",
    "def combienDeMots( phrase ):\n",
    "    n=1\n",
    "    for i in range (len(phrase)):\n",
    "        if phrase[i]== ' ' :\n",
    "            n+=1\n",
    "    return n\n",
    "# Test de la fonction combienDeMots\n",
    "combienDeMots('hello world what up')"
   ]
  },
  {
   "cell_type": "markdown",
   "metadata": {},
   "source": [
    "## 4. CODINGAME\n",
    "Afin de vous aider dans votre apprentissage de la synthaxe Python, voici une liste d'exercice sur CodinGame\n",
    "que vous pouvez résoudre :\n",
    "\n",
    "**1. Puzzles faciles :**\n",
    "\n",
    "- Onboarding\n",
    "- Thor\n",
    "- Temperatures\n",
    "- The Descent\n",
    "- Horse-Racing (+ Hyperduals)\n",
    "- May the triforce be with you (Suite de l'exercice sur l'affichage de pyramides)\n",
    "- Darts\n",
    "- Jack Silver : The Casino\n",
    "- Lumen\n",
    "\n",
    "**2. Puzzles moyens :**\n",
    "\n",
    "- Shadows of the Knight\n",
    "- Pertes en bourse\n",
    "- Le jeu de la vie\n",
    "- Porcupine Fever\n",
    "- Gravité\n",
    "- Nombre d'échange minimum\n",
    "- Magic square\n",
    "\n",
    "Cette liste est bien évidemment non exhaustive et vous pouvez essayer de résoudre d'autres puzzles proposés\n",
    "sur ce site."
   ]
  }
 ],
 "metadata": {
  "kernelspec": {
   "display_name": "Python 3",
   "language": "python",
   "name": "python3"
  },
  "language_info": {
   "codemirror_mode": {
    "name": "ipython",
    "version": 3
   },
   "file_extension": ".py",
   "mimetype": "text/x-python",
   "name": "python",
   "nbconvert_exporter": "python",
   "pygments_lexer": "ipython3",
   "version": "3.6.2"
  }
 },
 "nbformat": 4,
 "nbformat_minor": 2
}
